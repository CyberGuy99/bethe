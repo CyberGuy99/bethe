{
 "cells": [
  {
   "cell_type": "markdown",
   "id": "3601d9fb-a360-464f-ac12-9b075da6ca44",
   "metadata": {},
   "source": [
    "## Assumptions: W = 0, V != 0, N is even"
   ]
  },
  {
   "cell_type": "code",
   "execution_count": 7,
   "id": "5af6a55c-7645-4f29-8154-89e7d5c79ee1",
   "metadata": {},
   "outputs": [],
   "source": [
    "from scipy.optimize import root"
   ]
  },
  {
   "cell_type": "markdown",
   "id": "0f934cda-f9ed-45fc-b24e-632d798fe2f7",
   "metadata": {
    "jp-MarkdownHeadingCollapsed": true
   },
   "source": [
    "#### Experimenting with Scipy Root"
   ]
  },
  {
   "cell_type": "code",
   "execution_count": 8,
   "id": "fbf8915e-6810-4659-9a85-7396084e2ba6",
   "metadata": {},
   "outputs": [],
   "source": [
    "import numpy as np\n",
    "def fun(x):\n",
    "    return [x[0]  + 0.5 * (x[0] - x[1])**3 - 1.0, \n",
    "            0.5 * (x[1] - x[0])**3 + x[1]]\n",
    "\n",
    "def jac(x):\n",
    "    return np.array([[1 + 1.5 * (x[0] - x[1])**2,\n",
    "                      -1.5 * (x[0] - x[1])**2],\n",
    "                     [-1.5 * (x[1] - x[0])**2,\n",
    "                      1 + 1.5 * (x[1] - x[0])**2]])"
   ]
  },
  {
   "cell_type": "code",
   "execution_count": 9,
   "id": "91192e16-d333-4ce9-81e5-53e44da94223",
   "metadata": {},
   "outputs": [
    {
     "data": {
      "text/plain": [
       "[-1.0, 0.0]"
      ]
     },
     "execution_count": 9,
     "metadata": {},
     "output_type": "execute_result"
    }
   ],
   "source": [
    "fun([0,0])"
   ]
  },
  {
   "cell_type": "code",
   "execution_count": 10,
   "id": "287f5cff-411d-47a6-803c-a9bc4060dae9",
   "metadata": {},
   "outputs": [
    {
     "data": {
      "text/plain": [
       "array([[ 1., -0.],\n",
       "       [-0.,  1.]])"
      ]
     },
     "execution_count": 10,
     "metadata": {},
     "output_type": "execute_result"
    }
   ],
   "source": [
    "jac([0,0])"
   ]
  },
  {
   "cell_type": "code",
   "execution_count": 11,
   "id": "91fe6e82-7c12-4d2e-92aa-c65f84cfe1cb",
   "metadata": {},
   "outputs": [
    {
     "data": {
      "text/plain": [
       " message: The solution converged.\n",
       " success: True\n",
       "  status: 1\n",
       "     fun: [-1.110e-16  0.000e+00]\n",
       "       x: [ 8.412e-01  1.588e-01]\n",
       "  method: hybr\n",
       "    nfev: 12\n",
       "    njev: 1\n",
       "    fjac: [[ 8.991e-01 -4.377e-01]\n",
       "           [ 4.377e-01  8.991e-01]]\n",
       "       r: [ 2.167e+00 -1.037e+00  1.106e+00]\n",
       "     qtf: [-1.196e-11  4.128e-12]"
      ]
     },
     "execution_count": 11,
     "metadata": {},
     "output_type": "execute_result"
    }
   ],
   "source": [
    "root(fun, [0, 0], jac=jac)"
   ]
  },
  {
   "cell_type": "code",
   "execution_count": 12,
   "id": "7b003eae-fa74-44a0-9bb6-443b9fec7854",
   "metadata": {},
   "outputs": [
    {
     "data": {
      "text/plain": [
       " message: The solution converged.\n",
       " success: True\n",
       "  status: 1\n",
       "     fun: [-1.110e-16  0.000e+00]\n",
       "       x: [ 8.412e-01  1.588e-01]\n",
       "  method: hybr\n",
       "    nfev: 14\n",
       "    fjac: [[-8.991e-01  4.377e-01]\n",
       "           [-4.377e-01 -8.991e-01]]\n",
       "       r: [-2.167e+00  1.037e+00 -1.106e+00]\n",
       "     qtf: [ 1.196e-11 -4.128e-12]"
      ]
     },
     "execution_count": 12,
     "metadata": {},
     "output_type": "execute_result"
    }
   ],
   "source": [
    "root(fun, [0, 0])"
   ]
  },
  {
   "cell_type": "markdown",
   "id": "c3acd023-2640-48b3-b5ff-0eb37ce5c350",
   "metadata": {},
   "source": [
    "## Solving for Bethe Roots"
   ]
  },
  {
   "cell_type": "code",
   "execution_count": 13,
   "id": "e642bedf-568d-4c01-857e-37a07cdf1e3a",
   "metadata": {},
   "outputs": [],
   "source": [
    "LARGE_INT = 9999\n",
    "POKE = 1e-4\n",
    "def bethe_func_N_even_mini(E, l, M, V, v):\n",
    "    assert len(E) == M, f'Incorrect input vector length (expected: {M}, actual: {len(E)})'\n",
    "    N = 2*M + 2*v\n",
    "    \n",
    "    left = 1\n",
    "    left_denom = (N * (E[l]**2 - 1))\n",
    "    if left_denom == 0:\n",
    "        return LARGE_INT\n",
    "    left += 2*(1 + 2*v)*V*E[l] / left_denom\n",
    "    right = 0\n",
    "    for n in range(0, M):\n",
    "        if n == l:\n",
    "            continue\n",
    "        right_denom = (E[l] - E[n])\n",
    "        if right_denom == 0:\n",
    "            right_denom += POKE\n",
    "            \n",
    "        right += (1 + E[l]*E[n])/right_denom\n",
    "\n",
    "    return left + (2*V*right / N)\n",
    "\n",
    "def bethe_func_N_odd_mini(E, l, M, V, v_diff):\n",
    "    assert len(E) == M, f'Incorrect input vector length (expected: {M}, actual: {len(E)})'\n",
    "    N = 2*M + 1 # v_a + v_b always = 1 in odd case\n",
    "    \n",
    "    left = 1\n",
    "    left_denom = (N * (E[l]**2 - 1))\n",
    "    if left_denom == 0:\n",
    "        return LARGE_INT\n",
    "    left += (2*(1 + 2*v)*V*E[l] + V*v_diff*(1 + E[l]**2))/ left_denom\n",
    "    right = 0\n",
    "    for n in range(0, M):\n",
    "        if n == l:\n",
    "            continue\n",
    "        right_denom = (E[l] - E[n])\n",
    "        if right_denom == 0:\n",
    "            right_denom += POKE\n",
    "            \n",
    "        right += (1 + E[l]*E[n])/right_denom\n",
    "\n",
    "    return left + (2*V*right / N)"
   ]
  },
  {
   "cell_type": "code",
   "execution_count": 14,
   "id": "3f778cb8-7077-4fdf-97f8-23dac5e0ba79",
   "metadata": {},
   "outputs": [],
   "source": [
    "from math import sqrt\n",
    "class Bethe_Analytic:\n",
    "    def m_1_solve(V, v):\n",
    "        M = 1\n",
    "        N = 2*M + 2*v\n",
    "        num = lambda s: V*(1+2*v) + s*sqrt(V*V*(1+2*v)**2 + N**2)\n",
    "        solns = [num(s)/(-1*N) for s in [1,-1]]\n",
    "        return solns\n",
    "\n",
    "    def m_2_solve(V,v):\n",
    "        num = lambda s: V*(1+2*v) + s*sqrt(V*V*(1+2*v)**2 + 4*(1+v)**2)\n",
    "        solns = [num(s)/(-2*(1+v)) for s in [1,-1]]\n",
    "        return solns\n",
    "\n",
    "\n",
    "def bethe_func_N_even(E, M, consts):\n",
    "    assert len(E) == M, f'Incorrect input vector length (expected: {M}, actual: {len(E)})'\n",
    "    V, v = consts\n",
    "    \n",
    "    full_out = [bethe_func_N_even_mini(E, l, M, V, v) for l in range(0, M)]\n",
    "    return np.array(full_out)\n",
    "\n",
    "def bethe_func_N_odd(E, M, consts):\n",
    "    assert len(E) == M, f'Incorrect input vector length (expected: {M}, actual: {len(E)})'\n",
    "    V, v_diff = consts\n",
    "    \n",
    "    full_out = [bethe_func_N_even_mini(E, l, M, V, v_diff) for l in range(0, M)]\n",
    "    return np.array(full_out)\n"
   ]
  },
  {
   "cell_type": "markdown",
   "id": "065b852f-1db5-4b4d-8329-76ad7c0a8749",
   "metadata": {
    "jp-MarkdownHeadingCollapsed": true
   },
   "source": [
    "### M=1 Testing"
   ]
  },
  {
   "cell_type": "code",
   "execution_count": 15,
   "id": "b8ce7cde-1d0d-4d9f-abd8-39bc8ea44b64",
   "metadata": {},
   "outputs": [
    {
     "data": {
      "text/plain": [
       "array([1.])"
      ]
     },
     "execution_count": 15,
     "metadata": {},
     "output_type": "execute_result"
    }
   ],
   "source": [
    "M = 1\n",
    "bethe_func_N_even([0]*M, M, consts=(1,1))"
   ]
  },
  {
   "cell_type": "code",
   "execution_count": 16,
   "id": "4d0ac475-b2ee-4c31-b0d5-439be4ef1119",
   "metadata": {},
   "outputs": [
    {
     "data": {
      "text/plain": [
       "array([1.])"
      ]
     },
     "execution_count": 16,
     "metadata": {},
     "output_type": "execute_result"
    }
   ],
   "source": [
    "bethe_func_N_even([0]*M, M, consts=(1,0))"
   ]
  },
  {
   "cell_type": "code",
   "execution_count": 17,
   "id": "82d147dc-44c4-4499-aa4c-d0e32557857d",
   "metadata": {},
   "outputs": [
    {
     "data": {
      "text/plain": [
       " message: successful convergence\n",
       " success: True\n",
       "     fun: [-5.376e-10]\n",
       "       x: [ 6.180e-01]\n",
       "     nit: 14\n",
       "    nfev: 29\n",
       "  method: df-sane"
      ]
     },
     "execution_count": 17,
     "metadata": {},
     "output_type": "execute_result"
    }
   ],
   "source": [
    "init = [0]*M\n",
    "V = 1\n",
    "root(bethe_func_N_even, init, args=(M, (V,0)), method='df-sane')"
   ]
  },
  {
   "cell_type": "code",
   "execution_count": 18,
   "id": "b7928cf3-8c81-405d-a8e2-d76dda25f25b",
   "metadata": {},
   "outputs": [
    {
     "data": {
      "text/plain": [
       " message: successful convergence\n",
       " success: True\n",
       "     fun: [ 5.574e-13]\n",
       "       x: [ 5.000e-01]\n",
       "     nit: 9\n",
       "    nfev: 12\n",
       "  method: df-sane"
      ]
     },
     "execution_count": 18,
     "metadata": {},
     "output_type": "execute_result"
    }
   ],
   "source": [
    "root(bethe_func_N_even, init, args=(M, (V,1)), method='df-sane')"
   ]
  },
  {
   "cell_type": "code",
   "execution_count": 19,
   "id": "b7d39f9d-bfbb-458e-aad1-28f15150e9fd",
   "metadata": {},
   "outputs": [
    {
     "data": {
      "text/plain": [
       "[[-1.618033988749895, 0.6180339887498949], [-2.0, 0.5]]"
      ]
     },
     "execution_count": 19,
     "metadata": {},
     "output_type": "execute_result"
    }
   ],
   "source": [
    "[Bethe_Analytic.m_1_solve(V,v) for v in range(0,2)]"
   ]
  },
  {
   "cell_type": "code",
   "execution_count": 20,
   "id": "c5133747-7b19-40b0-b988-375261fc63fa",
   "metadata": {},
   "outputs": [
    {
     "data": {
      "text/plain": [
       "[[-1.618033988749895, 0.6180339887498949], [-2.0, 0.5]]"
      ]
     },
     "execution_count": 20,
     "metadata": {},
     "output_type": "execute_result"
    }
   ],
   "source": [
    "[Bethe_Analytic.m_2_solve(V,v) for v in range(0,2)]"
   ]
  },
  {
   "cell_type": "markdown",
   "id": "087dc342-69b6-4b3f-9902-590d94b09bbb",
   "metadata": {},
   "source": [
    "### Testing Larger Ms"
   ]
  },
  {
   "cell_type": "code",
   "execution_count": 21,
   "id": "03c2cc1c-3ca9-4874-906e-7fd9d6dd15be",
   "metadata": {},
   "outputs": [
    {
     "name": "stdout",
     "output_type": "stream",
     "text": [
      "M=1 Roots:\t[ message: The iteration is not making good progress, as measured by the \n",
      "            improvement from the last ten iterations.\n",
      " success: False\n",
      "  status: 5\n",
      "     fun: [ 1.000e+00]\n",
      "       x: [ 1.374e-10]\n",
      "  method: hybr\n",
      "    nfev: 15\n",
      "    fjac: [[-1.000e+00]]\n",
      "       r: [ 1.000e+00]\n",
      "     qtf: [-1.000e+00],  message: The solution converged.\n",
      " success: True\n",
      "  status: 1\n",
      "     fun: [ 0.000e+00]\n",
      "       x: [ 5.000e-01]\n",
      "  method: hybr\n",
      "    nfev: 13\n",
      "    fjac: [[-1.000e+00]]\n",
      "       r: [ 3.333e+00]\n",
      "     qtf: [-2.863e-13]]\n",
      "\n",
      "M=2 Roots:\t[ message: The solution converged.\n",
      " success: True\n",
      "  status: 1\n",
      "     fun: [ 2.613e-11 -8.455e-11]\n",
      "       x: [ 2.107e-01  8.764e-01]\n",
      "  method: hybr\n",
      "    nfev: 30\n",
      "    fjac: [[-7.745e-01  6.326e-01]\n",
      "           [-6.326e-01 -7.745e-01]]\n",
      "       r: [ 3.368e+00 -1.184e+01  1.276e+01]\n",
      "     qtf: [-3.172e-08  2.106e-08],  message: The solution converged.\n",
      " success: True\n",
      "  status: 1\n",
      "     fun: [-5.810e-13 -9.125e-13]\n",
      "       x: [ 2.337e-01  7.546e-01]\n",
      "  method: hybr\n",
      "    nfev: 22\n",
      "    fjac: [[ 8.489e-01 -5.286e-01]\n",
      "           [ 5.286e-01  8.489e-01]]\n",
      "       r: [-3.657e+00  6.260e+00 -7.613e+00]\n",
      "     qtf: [ 1.252e-10  1.043e-08]]\n",
      "\n",
      "M=3 Roots:\t[ message: The solution converged.\n",
      " success: True\n",
      "  status: 1\n",
      "     fun: [-7.549e-10  4.916e-10  1.898e-09]\n",
      "       x: [ 2.125e-02  5.626e-01  9.406e-01]\n",
      "  method: hybr\n",
      "    nfev: 36\n",
      "    fjac: [[-8.342e-01  4.955e-01  2.421e-01]\n",
      "           [ 2.877e-01  7.655e-01 -5.756e-01]\n",
      "           [ 4.706e-01  4.105e-01  7.811e-01]]\n",
      "       r: [ 3.218e+00 -3.553e+00 -1.030e+01 -6.021e+00  3.134e+01\n",
      "           -3.762e+01]\n",
      "     qtf: [ 3.310e-08 -6.337e-09  1.543e-08],  message: The solution converged.\n",
      " success: True\n",
      "  status: 1\n",
      "     fun: [ 6.266e-13 -1.622e-12  4.361e-13]\n",
      "       x: [ 8.019e-02  5.176e-01  8.564e-01]\n",
      "  method: hybr\n",
      "    nfev: 34\n",
      "    fjac: [[-8.864e-01  4.559e-01 -8.029e-02]\n",
      "           [-4.361e-01 -7.642e-01  4.752e-01]\n",
      "           [-1.553e-01 -4.563e-01 -8.762e-01]]\n",
      "       r: [ 3.179e+00 -4.834e+00  3.950e+00  6.391e+00 -1.474e+01\n",
      "            1.848e+01]\n",
      "     qtf: [ 1.731e-09 -1.521e-09 -3.472e-10]]\n",
      "\n",
      "M=4 Roots:\t[ message: The iteration is not making good progress, as measured by the \n",
      "            improvement from the last ten iterations.\n",
      " success: False\n",
      "  status: 5\n",
      "     fun: [ 2.453e-01  1.506e-01  2.931e-02  1.377e+00]\n",
      "       x: [ 1.693e-02  5.529e-01  9.393e-01  1.089e+06]\n",
      "  method: hybr\n",
      "    nfev: 55\n",
      "    fjac: [[-8.584e-01  4.598e-01  2.062e-01  9.624e-02]\n",
      "           [-2.137e-01 -7.151e-01  6.578e-01  1.015e-01]\n",
      "           [-4.347e-01 -5.163e-01 -7.242e-01  1.411e-01]\n",
      "           [-1.690e-01 -1.032e-01 -1.587e-02 -9.801e-01]]\n",
      "       r: [ 2.602e+00 -2.284e+00 -5.890e+00 -1.172e-09  4.746e+00\n",
      "           -2.203e+01 -5.087e-09  2.180e+01  4.662e-09  6.178e-11]\n",
      "     qtf: [-4.771e-03 -1.062e-02 -3.370e-03 -1.407e+00],  message: The solution converged.\n",
      " success: True\n",
      "  status: 1\n",
      "     fun: [ 1.412e-09 -1.231e-09 -6.647e-10  2.951e-11]\n",
      "       x: [-2.429e-02  3.567e-01  6.687e-01  9.063e-01]\n",
      "  method: hybr\n",
      "    nfev: 33\n",
      "    fjac: [[-8.672e-01  4.509e-01  1.367e-01  1.615e-01]\n",
      "           [-2.364e-01 -7.457e-01  3.534e-01  5.130e-01]\n",
      "           [-1.671e-02  1.112e-02 -8.194e-01  5.729e-01]\n",
      "           [-4.380e-01 -4.905e-01 -4.301e-01 -6.185e-01]]\n",
      "       r: [ 3.724e+00 -3.572e+00  1.355e+00 -5.204e+00  6.624e+00\n",
      "           -3.581e+00 -2.120e+01  1.178e+01 -3.184e+01  2.324e+01]\n",
      "     qtf: [ 9.027e-08 -1.664e-08 -1.894e-08 -1.450e-08]]\n",
      "\n",
      "M=5 Roots:\t[ message: The solution converged.\n",
      " success: True\n",
      "  status: 1\n",
      "     fun: [-3.889e-10 -6.824e-10 -1.207e-08  3.280e-08  2.125e-08]\n",
      "       x: [-1.798e-01  2.250e-01  5.458e-01  8.126e-01  9.773e-01]\n",
      "  method: hybr\n",
      "    nfev: 59\n",
      "    fjac: [[-8.322e-01  4.209e-01 ...  2.178e-01 -2.818e-01]\n",
      "           [-8.000e-02 -7.237e-01 ...  3.284e-01 -5.313e-01]\n",
      "           ...\n",
      "           [-4.222e-01 -4.314e-01 ... -6.482e-01  3.797e-03]\n",
      "           [-2.923e-01 -3.280e-01 ...  5.014e-01  7.351e-01]]\n",
      "       r: [ 3.266e+00 -2.343e+00 ... -1.443e+01 -1.625e+02]\n",
      "     qtf: [-8.084e-09  3.585e-08  2.025e-07  1.819e-07 -3.997e-07],  message: The solution converged.\n",
      " success: True\n",
      "  status: 1\n",
      "     fun: [ 2.483e-10 -6.324e-10  3.258e-10 -2.949e-10 -1.625e-09]\n",
      "       x: [-1.021e-01  2.408e-01  5.201e-01  7.596e-01  9.342e-01]\n",
      "  method: hybr\n",
      "    nfev: 34\n",
      "    fjac: [[ 8.645e-01 -1.240e-01 ...  2.924e-02  4.155e-01]\n",
      "           [-9.175e-02  8.883e-01 ... -6.160e-02  2.273e-01]\n",
      "           ...\n",
      "           [-1.725e-01 -1.196e-01 ... -8.204e-01  4.967e-01]\n",
      "           [ 3.542e-04 -2.222e-01 ... -4.289e-01 -4.814e-01]]\n",
      "       r: [-2.909e+00  2.224e+00 ... -3.883e+01  2.939e+01]\n",
      "     qtf: [-5.069e-09 -1.085e-08 -1.073e-08 -4.780e-09  8.403e-09]]\n",
      "\n",
      "M=6 Roots:\t[ message: The solution converged.\n",
      " success: True\n",
      "  status: 1\n",
      "     fun: [ 1.931e-10  4.065e-10  4.446e-09 -1.960e-08  1.724e-08\n",
      "            4.067e-09]\n",
      "       x: [-2.435e-01  1.255e-01  4.120e-01  6.617e-01  8.648e-01\n",
      "            9.840e-01]\n",
      "  method: hybr\n",
      "    nfev: 76\n",
      "    fjac: [[-6.659e-01  2.981e-01 ...  2.739e-01 -6.207e-01]\n",
      "           [ 3.110e-01 -7.119e-01 ...  2.330e-01 -5.445e-01]\n",
      "           ...\n",
      "           [-2.263e-01 -2.568e-01 ... -6.978e-01 -2.624e-01]\n",
      "           [ 5.583e-01  5.589e-01 ... -2.926e-01 -4.328e-01]]\n",
      "       r: [ 3.682e+00  1.884e+00 ...  1.011e+02  1.615e+02]\n",
      "     qtf: [-2.347e-08 -2.288e-08 -1.117e-07  4.179e-07 -9.901e-08\n",
      "           -7.292e-08],  message: The solution converged.\n",
      " success: True\n",
      "  status: 1\n",
      "     fun: [ 1.302e-12 -3.220e-12  2.171e-12 -1.649e-12  1.027e-12\n",
      "           -8.219e-12]\n",
      "       x: [-1.634e-01  1.524e-01  4.053e-01  6.286e-01  8.182e-01\n",
      "            9.513e-01]\n",
      "  method: hybr\n",
      "    nfev: 38\n",
      "    fjac: [[-7.367e-01  3.237e-01 ... -4.821e-01 -3.012e-01]\n",
      "           [ 1.766e-01 -6.855e-01 ... -6.658e-01 -1.205e-02]\n",
      "           ...\n",
      "           [ 6.130e-03  1.853e-01 ... -4.346e-01  5.524e-01]\n",
      "           [-5.795e-01 -5.040e-01 ...  3.322e-01  4.463e-01]]\n",
      "       r: [ 4.216e+00  9.108e-02 ... -6.683e+01 -3.803e+01]\n",
      "     qtf: [-4.651e-10  1.941e-09  2.048e-09 -4.894e-10  9.925e-10\n",
      "            7.325e-11]]\n",
      "\n"
     ]
    }
   ],
   "source": [
    "max_M = 6\n",
    "better_init = lambda M: [i/M for i in range(M)]\n",
    "\n",
    "# Manually check by printing results and noticing proximity to 0\n",
    "def check_roots(roots, M, outcomes):\n",
    "    for v in range(0,2):\n",
    "        print(outcomes[v], bethe_func_N_even(E=roots[v], M=M, consts=(V,v))) \n",
    "\n",
    "# Check all Ms outputs\n",
    "def verify_test(max_M, all_roots, all_outcomes):\n",
    "    for M in range(1, max_M+1):\n",
    "        check_roots(all_roots[M-1], M, all_outcomes[M-1])\n",
    "        print()\n",
    "        \n",
    "def test_spectral_solver(max_M, method='hybr', init_strat=None, N_even=True):\n",
    "    all_roots = []\n",
    "    all_outcomes = []\n",
    "    \n",
    "    for M in range(1, max_M+1):\n",
    "        init = [.5]*M\n",
    "        if init_strat:\n",
    "            init = init_strat(M)\n",
    "        roots = []\n",
    "        if N_even:\n",
    "            for v in range(0,2):\n",
    "                roots.append(root(bethe_func_N_even, init, args=(M, (V,v)), method=method))\n",
    "        else:\n",
    "            for v_diff in [-1,1]:\n",
    "                roots.append(root(bethe_func_N_even, init, args=(M, (V,v_diff)), method=method))\n",
    "            \n",
    "        all_outcomes.append([r.success for r in roots])\n",
    "        all_roots.append([r.x for r in roots])\n",
    "        print(f'M={M} Roots:\\t{roots}')\n",
    "        print()\n",
    "\n",
    "    return all_roots, all_outcomes\n",
    "\n",
    "hybr_roots, hybr_outcomes = test_spectral_solver(max_M, init_strat=better_init)"
   ]
  },
  {
   "cell_type": "code",
   "execution_count": 22,
   "id": "a18a6c31-2d26-42b0-9cf6-73a3c11cef34",
   "metadata": {},
   "outputs": [
    {
     "name": "stdout",
     "output_type": "stream",
     "text": [
      "False [1.]\n",
      "True [0.]\n",
      "\n",
      "True [ 2.61319855e-11 -8.45472581e-11]\n",
      "True [-5.80979709e-13 -9.12492304e-13]\n",
      "\n",
      "True [-7.54927898e-10  4.91616636e-10  1.89760940e-09]\n",
      "True [ 6.26609875e-13 -1.62192482e-12  4.36095604e-13]\n",
      "\n",
      "False [0.24533802 0.15055857 0.02931132 1.37727494]\n",
      "True [ 1.41191459e-09 -1.23098975e-09 -6.64708177e-10  2.95137248e-11]\n",
      "\n",
      "True [-3.88911570e-10 -6.82436663e-10 -1.20706346e-08  3.27973053e-08\n",
      "  2.12487059e-08]\n",
      "True [ 2.48332910e-10 -6.32366937e-10  3.25821259e-10 -2.94934119e-10\n",
      " -1.62473190e-09]\n",
      "\n",
      "True [ 1.93139060e-10  4.06469192e-10  4.44583703e-09 -1.95968081e-08\n",
      "  1.72400587e-08  4.06709866e-09]\n",
      "True [ 1.30162547e-12 -3.21975779e-12  2.17137419e-12 -1.64901426e-12\n",
      "  1.02701875e-12 -8.21875901e-12]\n",
      "\n"
     ]
    }
   ],
   "source": [
    "verify_test(max_M, hybr_roots, hybr_outcomes)"
   ]
  },
  {
   "cell_type": "code",
   "execution_count": 23,
   "id": "8f210ad5-14e4-4fb5-9de7-2459017eb6ad",
   "metadata": {},
   "outputs": [
    {
     "name": "stdout",
     "output_type": "stream",
     "text": [
      "M=1 Roots:\t[ message: successful convergence\n",
      " success: True\n",
      "     fun: [-5.376e-10]\n",
      "       x: [ 6.180e-01]\n",
      "     nit: 14\n",
      "    nfev: 29\n",
      "  method: df-sane,  message: successful convergence\n",
      " success: True\n",
      "     fun: [ 5.574e-13]\n",
      "       x: [ 5.000e-01]\n",
      "     nit: 9\n",
      "    nfev: 12\n",
      "  method: df-sane]\n",
      "\n",
      "M=2 Roots:\t[ message: successful convergence\n",
      " success: True\n",
      "     fun: [-1.553e-08  2.139e-09]\n",
      "       x: [ 7.808e-01 -1.281e+00]\n",
      "     nit: 15\n",
      "    nfev: 17\n",
      "  method: df-sane,  message: successful convergence\n",
      " success: True\n",
      "     fun: [-2.217e-09 -6.033e-10]\n",
      "       x: [ 2.337e-01  7.546e-01]\n",
      "     nit: 19\n",
      "    nfev: 28\n",
      "  method: df-sane]\n",
      "\n",
      "M=3 Roots:\t[ message: too many function evaluations required\n",
      " success: False\n",
      "     fun: [ 3.243e-01 -9.856e-02  9.350e-01]\n",
      "       x: [-1.174e+00  8.162e-01  3.075e+01]\n",
      "     nit: 254\n",
      "    nfev: 1000\n",
      "  method: df-sane,  message: successful convergence\n",
      " success: True\n",
      "     fun: [ 2.328e-09  8.573e-10  3.598e-10]\n",
      "       x: [ 8.019e-02  5.176e-01  8.564e-01]\n",
      "     nit: 28\n",
      "    nfev: 32\n",
      "  method: df-sane]\n",
      "\n",
      "M=4 Roots:\t[ message: too many function evaluations required\n",
      " success: False\n",
      "     fun: [ 3.800e-02 -9.339e-05  5.144e-01 -2.292e-03]\n",
      "       x: [-1.053e+00  8.507e-01 -6.688e+01 -1.613e+00]\n",
      "     nit: 264\n",
      "    nfev: 1000\n",
      "  method: df-sane,  message: successful convergence\n",
      " success: True\n",
      "     fun: [-5.013e-09  1.584e-08 -2.566e-09 -4.641e-10]\n",
      "       x: [-2.429e-02  3.567e-01  6.687e-01  9.063e-01]\n",
      "     nit: 56\n",
      "    nfev: 84\n",
      "  method: df-sane]\n",
      "\n",
      "M=5 Roots:\t[ message: too many function evaluations required\n",
      " success: False\n",
      "     fun: [ 9.010e-01  2.284e-04  4.541e-04  3.280e-03 -3.768e-02]\n",
      "       x: [ 1.558e+01  9.370e-01  5.498e-01 -1.538e+00 -1.046e+00]\n",
      "     nit: 229\n",
      "    nfev: 1000\n",
      "  method: df-sane,  message: successful convergence\n",
      " success: True\n",
      "     fun: [-2.074e-09 -1.466e-08  1.502e-08 -3.883e-09  7.721e-10]\n",
      "       x: [ 9.215e-01  7.176e-01  4.424e-01  1.088e-01 -1.326e+00]\n",
      "     nit: 73\n",
      "    nfev: 133\n",
      "  method: df-sane]\n",
      "\n",
      "M=6 Roots:\t[ message: too many function evaluations required\n",
      " success: False\n",
      "     fun: [ 9.403e-04  5.692e-03  1.065e+00 -7.097e-02  3.178e-04\n",
      "            1.699e-03]\n",
      "       x: [ 3.687e-01  7.289e-01  1.269e+01  9.663e-01 -1.042e+00\n",
      "           -1.469e+00]\n",
      "     nit: 247\n",
      "    nfev: 1000\n",
      "  method: df-sane,  message: successful convergence\n",
      " success: True\n",
      "     fun: [-1.091e-10  2.932e-09  3.018e-09 -1.030e-08  1.559e-09\n",
      "            1.033e-09]\n",
      "       x: [ 3.649e-01 -1.099e+00  6.804e-01 -1.470e+00 -2.740e+00\n",
      "            9.103e-01]\n",
      "     nit: 339\n",
      "    nfev: 884\n",
      "  method: df-sane]\n",
      "\n"
     ]
    }
   ],
   "source": [
    "df_roots, df_outcomes = test_spectral_solver(max_M, method='df-sane', init_strat=better_init)"
   ]
  },
  {
   "cell_type": "code",
   "execution_count": 24,
   "id": "8189ca7c-ec36-440a-af6f-3c8139747457",
   "metadata": {},
   "outputs": [
    {
     "name": "stdout",
     "output_type": "stream",
     "text": [
      "True [-5.37584643e-10]\n",
      "True [5.57442981e-13]\n",
      "\n",
      "True [-1.55260065e-08  2.13882416e-09]\n",
      "True [-2.21679719e-09 -6.03311401e-10]\n",
      "\n",
      "False [ 0.32433423 -0.09855952  0.93499893]\n",
      "True [2.32757880e-09 8.57328541e-10 3.59798413e-10]\n",
      "\n",
      "False [ 3.80047330e-02 -9.33923190e-05  5.14410427e-01 -2.29206027e-03]\n",
      "True [-5.01250885e-09  1.58381923e-08 -2.56594063e-09 -4.64122962e-10]\n",
      "\n",
      "False [ 9.00959230e-01  2.28424547e-04  4.54098446e-04  3.27990087e-03\n",
      " -3.76759235e-02]\n",
      "True [-2.07415907e-09 -1.46556003e-08  1.50153513e-08 -3.88322008e-09\n",
      "  7.72099967e-10]\n",
      "\n",
      "False [ 9.40332472e-04  5.69200030e-03  1.06540941e+00 -7.09693322e-02\n",
      "  3.17824162e-04  1.69879129e-03]\n",
      "True [-1.09051657e-10  2.93195046e-09  3.01833153e-09 -1.02970765e-08\n",
      "  1.55946100e-09  1.03311137e-09]\n",
      "\n"
     ]
    }
   ],
   "source": [
    "verify_test(max_M, df_roots, df_outcomes)"
   ]
  },
  {
   "cell_type": "markdown",
   "id": "aa6bddd6-2580-4946-85e4-64a9bd37999f",
   "metadata": {},
   "source": [
    "#### Odd Ns"
   ]
  },
  {
   "cell_type": "code",
   "execution_count": 25,
   "id": "5a320048-113f-4f6b-9d56-6f89fa2445ed",
   "metadata": {},
   "outputs": [
    {
     "name": "stdout",
     "output_type": "stream",
     "text": [
      "M=1 Roots:\t[ message: The iteration is not making good progress, as measured by the \n",
      "            improvement from the last ten iterations.\n",
      " success: False\n",
      "  status: 5\n",
      "     fun: [ 9.999e+03]\n",
      "       x: [ 0.000e+00]\n",
      "  method: hybr\n",
      "    nfev: 15\n",
      "    fjac: [[ 1.000e+00]]\n",
      "       r: [-0.000e+00]\n",
      "     qtf: [ 9.999e+03],  message: The solution converged.\n",
      " success: True\n",
      "  status: 1\n",
      "     fun: [ 0.000e+00]\n",
      "       x: [ 5.000e-01]\n",
      "  method: hybr\n",
      "    nfev: 13\n",
      "    fjac: [[-1.000e+00]]\n",
      "       r: [ 3.333e+00]\n",
      "     qtf: [-2.863e-13]]\n",
      "\n",
      "M=2 Roots:\t[ message: The solution converged.\n",
      " success: True\n",
      "  status: 1\n",
      "     fun: [-2.700e-11  7.457e-11]\n",
      "       x: [-6.180e-01  1.618e+00]\n",
      "  method: hybr\n",
      "    nfev: 27\n",
      "    fjac: [[-8.458e-01 -5.334e-01]\n",
      "           [ 5.334e-01 -8.458e-01]]\n",
      "       r: [-3.038e+00 -8.713e-01 -1.006e+00]\n",
      "     qtf: [-8.704e-10 -3.921e-09],  message: The solution converged.\n",
      " success: True\n",
      "  status: 1\n",
      "     fun: [-5.810e-13 -9.125e-13]\n",
      "       x: [ 2.337e-01  7.546e-01]\n",
      "  method: hybr\n",
      "    nfev: 22\n",
      "    fjac: [[ 8.489e-01 -5.286e-01]\n",
      "           [ 5.286e-01  8.489e-01]]\n",
      "       r: [-3.657e+00  6.260e+00 -7.613e+00]\n",
      "     qtf: [ 1.252e-10  1.043e-08]]\n",
      "\n",
      "M=3 Roots:\t[ message: The solution converged.\n",
      " success: True\n",
      "  status: 1\n",
      "     fun: [-2.606e-10 -3.333e-12  1.164e-10]\n",
      "       x: [-7.122e-01  6.040e-01  1.095e+00]\n",
      "  method: hybr\n",
      "    nfev: 44\n",
      "    fjac: [[-9.632e-01 -1.645e-01 -2.125e-01]\n",
      "           [-2.418e-02  8.407e-01 -5.410e-01]\n",
      "           [-2.677e-01  5.160e-01  8.137e-01]]\n",
      "       r: [-2.471e+00  3.157e-02 -6.482e+00 -4.124e+00 -1.143e+01\n",
      "            2.218e+01]\n",
      "     qtf: [-2.462e-08 -4.451e-10 -4.894e-09],  message: The solution converged.\n",
      " success: True\n",
      "  status: 1\n",
      "     fun: [ 6.266e-13 -1.622e-12  4.361e-13]\n",
      "       x: [ 8.019e-02  5.176e-01  8.564e-01]\n",
      "  method: hybr\n",
      "    nfev: 34\n",
      "    fjac: [[-8.864e-01  4.559e-01 -8.029e-02]\n",
      "           [-4.361e-01 -7.642e-01  4.752e-01]\n",
      "           [-1.553e-01 -4.563e-01 -8.762e-01]]\n",
      "       r: [ 3.179e+00 -4.834e+00  3.950e+00  6.391e+00 -1.474e+01\n",
      "            1.848e+01]\n",
      "     qtf: [ 1.731e-09 -1.521e-09 -3.472e-10]]\n",
      "\n",
      "M=4 Roots:\t[ message: The iteration is not making good progress, as measured by the \n",
      "            improvement from the last ten iterations.\n",
      " success: False\n",
      "  status: 5\n",
      "     fun: [ 3.984e-01  1.660e-01 -3.788e-02  1.530e+00]\n",
      "       x: [-1.481e-01  6.613e-01  1.076e+00 -1.109e+07]\n",
      "  method: hybr\n",
      "    nfev: 72\n",
      "    fjac: [[-7.974e-01  4.985e-01  2.982e-01  1.632e-01]\n",
      "           [-3.479e-02 -5.725e-01  8.141e-01  9.114e-02]\n",
      "           [-5.466e-01 -6.425e-01 -4.978e-01  2.014e-01]\n",
      "           [-2.531e-01 -1.042e-01  2.353e-02 -9.615e-01]]\n",
      "       r: [ 2.052e+00 -1.150e+00  1.149e+01 -8.232e-11  6.186e+00\n",
      "            2.565e+01  3.171e-11 -1.892e+01 -1.300e-11 -1.354e-11]\n",
      "     qtf: [ 4.509e-03  3.975e-04  1.771e-03 -1.590e+00],  message: The solution converged.\n",
      " success: True\n",
      "  status: 1\n",
      "     fun: [ 1.412e-09 -1.231e-09 -6.647e-10  2.951e-11]\n",
      "       x: [-2.429e-02  3.567e-01  6.687e-01  9.063e-01]\n",
      "  method: hybr\n",
      "    nfev: 33\n",
      "    fjac: [[-8.672e-01  4.509e-01  1.367e-01  1.615e-01]\n",
      "           [-2.364e-01 -7.457e-01  3.534e-01  5.130e-01]\n",
      "           [-1.671e-02  1.112e-02 -8.194e-01  5.729e-01]\n",
      "           [-4.380e-01 -4.905e-01 -4.301e-01 -6.185e-01]]\n",
      "       r: [ 3.724e+00 -3.572e+00  1.355e+00 -5.204e+00  6.624e+00\n",
      "           -3.581e+00 -2.120e+01  1.178e+01 -3.184e+01  2.324e+01]\n",
      "     qtf: [ 9.027e-08 -1.664e-08 -1.894e-08 -1.450e-08]]\n",
      "\n",
      "M=5 Roots:\t[ message: The solution converged.\n",
      " success: True\n",
      "  status: 1\n",
      "     fun: [-1.276e-10 -8.604e-11  8.961e-11 -3.987e-11  2.041e-10]\n",
      "       x: [-3.480e-01  1.919e-01  5.859e-01  8.983e-01  1.020e+00]\n",
      "  method: hybr\n",
      "    nfev: 46\n",
      "    fjac: [[-7.884e-01  4.073e-01 ...  3.618e-01 -1.628e-01]\n",
      "           [-1.389e-01 -7.467e-01 ...  2.598e-01  1.952e-01]\n",
      "           ...\n",
      "           [ 2.833e-01 -1.274e-01 ...  3.163e-01 -8.940e-01]\n",
      "           [-5.280e-01 -4.769e-01 ... -4.512e-01 -2.919e-01]]\n",
      "       r: [ 1.763e+00 -2.335e+00 ... -1.227e+02 -8.819e+01]\n",
      "     qtf: [ 2.964e-09 -1.078e-08 -2.741e-09  1.499e-08 -7.365e-10],  message: The solution converged.\n",
      " success: True\n",
      "  status: 1\n",
      "     fun: [ 2.483e-10 -6.324e-10  3.258e-10 -2.949e-10 -1.625e-09]\n",
      "       x: [-1.021e-01  2.408e-01  5.201e-01  7.596e-01  9.342e-01]\n",
      "  method: hybr\n",
      "    nfev: 34\n",
      "    fjac: [[ 8.645e-01 -1.240e-01 ...  2.924e-02  4.155e-01]\n",
      "           [-9.175e-02  8.883e-01 ... -6.160e-02  2.273e-01]\n",
      "           ...\n",
      "           [-1.725e-01 -1.196e-01 ... -8.204e-01  4.967e-01]\n",
      "           [ 3.542e-04 -2.222e-01 ... -4.289e-01 -4.814e-01]]\n",
      "       r: [-2.909e+00  2.224e+00 ... -3.883e+01  2.939e+01]\n",
      "     qtf: [-5.069e-09 -1.085e-08 -1.073e-08 -4.780e-09  8.403e-09]]\n",
      "\n",
      "M=6 Roots:\t[ message: The iteration is not making good progress, as measured by the \n",
      "            improvement from the last five Jacobian evaluations.\n",
      " success: False\n",
      "  status: 4\n",
      "     fun: [ 2.503e-01  6.349e-01  1.090e+00 -5.903e-02  1.304e+00\n",
      "            1.769e+00]\n",
      "       x: [-5.637e+00 -1.599e+00 -3.108e-01 -9.334e-01  1.364e-01\n",
      "            6.638e-01]\n",
      "  method: hybr\n",
      "    nfev: 99\n",
      "    fjac: [[-8.395e-01  4.900e-01 ...  6.869e-02  8.156e-02]\n",
      "           [-1.688e-01 -6.274e-01 ...  8.865e-02  8.736e-02]\n",
      "           ...\n",
      "           [-6.225e-02 -5.365e-02 ... -7.849e-01  5.639e-01]\n",
      "           [-2.230e-01 -1.461e-01 ... -4.536e-01 -7.974e-01]]\n",
      "       r: [ 8.898e-02 -7.489e-01 ... -9.248e-01 -5.890e-02]\n",
      "     qtf: [ 4.184e-01 -5.373e-02 -2.608e-01 -1.010e-01 -3.412e-01\n",
      "           -2.473e+00],  message: The solution converged.\n",
      " success: True\n",
      "  status: 1\n",
      "     fun: [ 1.302e-12 -3.220e-12  2.171e-12 -1.649e-12  1.027e-12\n",
      "           -8.219e-12]\n",
      "       x: [-1.634e-01  1.524e-01  4.053e-01  6.286e-01  8.182e-01\n",
      "            9.513e-01]\n",
      "  method: hybr\n",
      "    nfev: 38\n",
      "    fjac: [[-7.367e-01  3.237e-01 ... -4.821e-01 -3.012e-01]\n",
      "           [ 1.766e-01 -6.855e-01 ... -6.658e-01 -1.205e-02]\n",
      "           ...\n",
      "           [ 6.130e-03  1.853e-01 ... -4.346e-01  5.524e-01]\n",
      "           [-5.795e-01 -5.040e-01 ...  3.322e-01  4.463e-01]]\n",
      "       r: [ 4.216e+00  9.108e-02 ... -6.683e+01 -3.803e+01]\n",
      "     qtf: [-4.651e-10  1.941e-09  2.048e-09 -4.894e-10  9.925e-10\n",
      "            7.325e-11]]\n",
      "\n"
     ]
    }
   ],
   "source": [
    "hybr_roots, hybr_outcomes = test_spectral_solver(max_M, init_strat=better_init, N_even=False)"
   ]
  },
  {
   "cell_type": "code",
   "execution_count": 26,
   "id": "7c4f0930-20c3-4a84-88f6-7ab4080c3a03",
   "metadata": {},
   "outputs": [
    {
     "name": "stdout",
     "output_type": "stream",
     "text": [
      "False [1.]\n",
      "True [0.]\n",
      "\n",
      "True [1.5 1.5]\n",
      "True [-5.80979709e-13 -9.12492304e-13]\n",
      "\n",
      "True [ 1.2967738  -0.30053675  4.00376294]\n",
      "True [ 6.26609875e-13 -1.62192482e-12  4.36095604e-13]\n",
      "\n",
      "False [ 0.62451808 -0.21310704  3.6493326   1.39718961]\n",
      "True [ 1.41191459e-09 -1.23098975e-09 -6.64708177e-10  2.95137248e-11]\n",
      "\n",
      "True [ 0.35836346  0.12028445 -0.15691019 -1.66037677 10.33863905]\n",
      "True [ 2.48332910e-10 -6.32366937e-10  3.25821259e-10 -2.94934119e-10\n",
      " -1.62473190e-09]\n",
      "\n",
      "False [0.31416121 0.35315494 1.18995685 2.53294861 1.20680217 1.24533449]\n",
      "True [ 1.30162547e-12 -3.21975779e-12  2.17137419e-12 -1.64901426e-12\n",
      "  1.02701875e-12 -8.21875901e-12]\n",
      "\n"
     ]
    }
   ],
   "source": [
    "verify_test(max_M, hybr_roots, hybr_outcomes)"
   ]
  },
  {
   "cell_type": "code",
   "execution_count": null,
   "id": "2e500f4e-4301-42bb-b66a-c1264cceca49",
   "metadata": {},
   "outputs": [],
   "source": []
  }
 ],
 "metadata": {
  "kernelspec": {
   "display_name": "bethe-env",
   "language": "python",
   "name": "bethe-env"
  },
  "language_info": {
   "codemirror_mode": {
    "name": "ipython",
    "version": 3
   },
   "file_extension": ".py",
   "mimetype": "text/x-python",
   "name": "python",
   "nbconvert_exporter": "python",
   "pygments_lexer": "ipython3",
   "version": "3.10.12"
  }
 },
 "nbformat": 4,
 "nbformat_minor": 5
}
