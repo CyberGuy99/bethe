{
 "cells": [
  {
   "cell_type": "markdown",
   "id": "4eab06c6-789f-4690-acff-9d8c94814520",
   "metadata": {},
   "source": [
    "## Functions"
   ]
  },
  {
   "cell_type": "code",
   "execution_count": 24,
   "id": "f3d6b4b4-0425-4aac-97b0-70f0c18c6bb1",
   "metadata": {},
   "outputs": [],
   "source": [
    "from math import acos, pi, sqrt\n",
    "\n",
    "def sgn(x):\n",
    "    assert isinstance(x, (int,float)) \n",
    "    if x < 0:\n",
    "        return -1\n",
    "    if x > 0:\n",
    "        return 1\n",
    "    return 0\n",
    "\n",
    "def _q(M, j, C):\n",
    "    num = C[M + 2 - j - 1] # 1 based indexing\n",
    "    denom = sqrt(sum([c*c for c in C[:M + 2 - j]]))\n",
    "    return num/denom\n",
    "\n",
    "def compute_theta(M, j, C):\n",
    "    if j > M:\n",
    "        raise ValueError\n",
    "    if j < M:\n",
    "        return 2*acos(_q(M, j, C))\n",
    "    return 2*sgn(C[0])*(acos(_q(M, j, C)) - pi) + 2*pi\n",
    "\n",
    "def compute_all_theta(M, C):\n",
    "    return [compute_theta(M, j, C) for j in range(1, M+1)]"
   ]
  },
  {
   "cell_type": "code",
   "execution_count": 25,
   "id": "3025cf08-c373-42d3-ab6d-c11d5f34b369",
   "metadata": {},
   "outputs": [],
   "source": [
    "from math import prod, sqrt\n",
    "\n",
    "def _w(M, v_a, j, i):\n",
    "    return 2*M + v_a - 2*j + i\n",
    "\n",
    "def _x(v_b, j, i):\n",
    "    return v_b + 2*j + i\n",
    "\n",
    "# M represents M+1 in the inductive formula\n",
    "def compute_intermediate_coeff(M, E, v_a, v_b, d_prev, eta=-1):\n",
    "    amps = dict()\n",
    "    state_order = []\n",
    "    for j in range(M):\n",
    "        d_j = d_prev[j]\n",
    "        inc_a_state = (_w(M-1, v_a, j, 2), _x(v_b, j, 0))\n",
    "        # E index should match the current EGO iter (M), but also have 1-indexing\n",
    "        inc_a_coeff = prod(sqrt(_w(M-1, v_a, j, i+1)) for i in range(2)) / (E[M-1] + eta)\n",
    "        \n",
    "        inc_b_state = (_w(M-1, v_a, j, 0), _x(v_b, j, 2))\n",
    "        inc_b_coeff = prod(sqrt(_x(v_b, j, i+1)) for i in range(2)) / (E[M-1] - eta)\n",
    "\n",
    "        for state, coeff in [(inc_a_state, inc_a_coeff), (inc_b_state, inc_b_coeff)]:\n",
    "            if state not in amps:\n",
    "                state_order.append(state)\n",
    "                amps[state] = 0\n",
    "            amps[state] += d_j*coeff\n",
    "        # print(amps)\n",
    "        \n",
    "    \n",
    "    # assert output length is M+1\n",
    "    assert len(state_order) == M+1, f'Unexpected state length: {len(state_order)}'\n",
    "\n",
    "    mag_squared = sum(a*a for a in amps.values())\n",
    "    mag_squared = 1\n",
    "    print(state_order)\n",
    "    return [amps[state]/sqrt(mag_squared) for state in state_order]\n",
    "        \n",
    "\n",
    "def compute_ansatz_coeff(M, E, v_a, v_b, eta=-1):\n",
    "    D = []\n",
    "    for l in range(1, M+1):\n",
    "        # in lth iteration, prev output vector is a superposition of l fiducial states\n",
    "        d_prev = D[-1] if len(D) > 0 else [1]\n",
    "        #print(f'Norm squared after iter {l-1}: {sum(d_j * d_j for d_j in d_prev)}')\n",
    "        D.append(compute_intermediate_coeff(l, E, v_a, v_b, d_prev, eta=eta))\n",
    "\n",
    "    # return D[-1]\n",
    "    m_sq = sum(d*d for d in D[-1])\n",
    "    return [d / sqrt(m_sq) for d in D[-1]]"
   ]
  },
  {
   "cell_type": "code",
   "execution_count": 26,
   "id": "ec7b39dd-4ef8-4c42-aef8-f49401f53a35",
   "metadata": {},
   "outputs": [],
   "source": [
    "from bethe_functions import Bethe_Equations \n",
    "from scipy.optimize import root\n",
    "\n",
    "def get_starting_params(N):\n",
    "    # output list of inputs where 2*M + v_a + v_b = N\n",
    "    assert type(N) is int\n",
    "    if N % 2 == 1:\n",
    "        M = N//2\n",
    "        return [(M, 0, 1, -1), (M, 1, 0, 1)], Bethe_Equations.bethe_func_N_odd \n",
    "\n",
    "    return [(N//2, 0, 0, 0), (N//2-1, 1, 1, 1)], Bethe_Equations.bethe_func_N_even\n",
    "\n",
    "better_init = lambda M: [i/M for i in range(M)]\n",
    "def get_bethe_ansatz_angles(N, V, init_strat=better_init, method=\"hybr\"):\n",
    "    params, E_func = get_starting_params(N)\n",
    "    C_options = []\n",
    "    angle_options = []\n",
    "    for M, v_a, v_b, E_v in params:\n",
    "        E = root(E_func, init_strat(M), args=(M, (V,E_v)), method=method).x\n",
    "        C = compute_ansatz_coeff(M, E, v_a, v_b)\n",
    "        C_options.append(C)\n",
    "\n",
    "        curr_angles = compute_all_theta(M, C)\n",
    "        angle_options.append(curr_angles)\n",
    "        print(curr_angles)\n",
    "        \n",
    "    return angle_options, C_options"
   ]
  },
  {
   "cell_type": "markdown",
   "id": "b132a78c-dc96-4589-983f-80a3e6b1a26c",
   "metadata": {},
   "source": [
    "## Tests"
   ]
  },
  {
   "cell_type": "code",
   "execution_count": 27,
   "id": "23f717ba-5174-480e-9ea4-a6edf048b13f",
   "metadata": {},
   "outputs": [
    {
     "name": "stdout",
     "output_type": "stream",
     "text": [
      "Eta: -2.23606797749979\n",
      "[(3, 0), (1, 2)]\n",
      "[(5, 0), (3, 2), (1, 4)]\n",
      "[(7, 0), (5, 2), (3, 4), (1, 6)]\n",
      "Actual: [-0.9829533553589793, 0.18120943345573517, -0.030890832794998286, 0.003405710558334186]\n",
      "Expected: [-0.982953, 0.18121, -0.0308911, 0.00340577]\n",
      "Differences: [-3.5535897935368155e-07, -5.665442648350449e-07, 2.6720500171523165e-07, -5.9441665813900896e-08]\n",
      "Good!\n",
      "\n",
      "\n",
      "Actual: [3.1347810987991855, 3.2033850570703435, 9.789389512110574]\n",
      "Expected: [3.13478, 3.20338, 9.78939]\n",
      "Differences: [1.0987991854172208e-06, 5.0570703433727715e-06, -4.878894248605548e-07]\n",
      "Good!\n"
     ]
    }
   ],
   "source": [
    "THRESHOLD = 1e-5\n",
    "\n",
    "class Test_N_7:\n",
    "    N = 7\n",
    "    W = .5\n",
    "    V = .75\n",
    "    E = [1.94591, 1.33363, .701066]\n",
    "    M = 3\n",
    "    v_a = 1\n",
    "    v_b = 0\n",
    "    eta = -1*sqrt( (V+W) / (V-W) )\n",
    "    expected_C = [3.40577e-3, -3.08911e-2, .18121, -.982953] # (1,6), (3,4), (5,2), (7,0); or greatest k to least k\n",
    "    expected_theta = [3.13478, 3.20338, 9.78939]\n",
    "    \n",
    "    def test_ansatz_coeff():\n",
    "        M, E, v_a, v_b = Test_N_7.M, Test_N_7.E, Test_N_7.v_a, Test_N_7.v_b\n",
    "        expected_C = list(reversed(Test_N_7.expected_C))\n",
    "\n",
    "        eta = Test_N_7.eta\n",
    "        print('Eta:', eta)\n",
    "        C = compute_ansatz_coeff(M, E, v_a, v_b, eta=eta)\n",
    "        print('Actual:', C)\n",
    "        print('Expected:', expected_C)\n",
    "        diffs = [c - expected_c for c, expected_c in zip(C, expected_C)]\n",
    "        print('Differences:', diffs)\n",
    "        if all(abs(d) < THRESHOLD for d in diffs):\n",
    "            print('Good!')\n",
    "        else:\n",
    "            print('Inaccurate output!')\n",
    "\n",
    "    def test_ansatz_angles():\n",
    "        M, C, expected_theta = Test_N_7.M, Test_N_7.expected_C, Test_N_7.expected_theta\n",
    "        theta = compute_all_theta(M, list(reversed(C)))\n",
    "        print('Actual:', theta)\n",
    "        print('Expected:', expected_theta)\n",
    "        diffs = [t - expected_t for t, expected_t in zip(theta, expected_theta)]\n",
    "        print('Differences:', diffs)\n",
    "        if all(abs(d) < THRESHOLD for d in diffs):\n",
    "            print('Good!')\n",
    "        else:\n",
    "            print('Inaccurate output!')\n",
    "\n",
    "Test_N_7.test_ansatz_coeff()\n",
    "print()\n",
    "print()\n",
    "Test_N_7.test_ansatz_angles()"
   ]
  },
  {
   "cell_type": "markdown",
   "id": "83960c06-8cf2-4913-bc4a-143017a2e6e0",
   "metadata": {},
   "source": [
    "## Computing Eigenvalues"
   ]
  },
  {
   "cell_type": "code",
   "execution_count": 28,
   "id": "ef3ec55c-cef3-432a-8f64-b9569ff3cc03",
   "metadata": {},
   "outputs": [
    {
     "name": "stdout",
     "output_type": "stream",
     "text": [
      "[(3, 0), (1, 2)]\n",
      "[(5, 0), (3, 2), (1, 4)]\n",
      "[(7, 0), (5, 2), (3, 4), (1, 6)]\n"
     ]
    },
    {
     "data": {
      "text/plain": [
       "[-0.9829533553589793,\n",
       " 0.18120943345573517,\n",
       " -0.030890832794998286,\n",
       " 0.003405710558334186]"
      ]
     },
     "execution_count": 28,
     "metadata": {},
     "output_type": "execute_result"
    }
   ],
   "source": [
    "C_1 = compute_ansatz_coeff(M=Test_N_7.M, E=Test_N_7.E, v_a=1, v_b=0, eta=Test_N_7.eta)\n",
    "coeffs_1 = [(0, C_1[0]), (C_1[1], C_1[1]), (C_1[2], C_1[2]), (C_1[3], 0)]\n",
    "states_1 = [(7, 0), (5, 2), (3, 4), (1, 6)]\n",
    "C_1"
   ]
  },
  {
   "cell_type": "code",
   "execution_count": 29,
   "id": "8d726ef8-d8c5-4308-94fb-f32940eb2753",
   "metadata": {},
   "outputs": [
    {
     "name": "stdout",
     "output_type": "stream",
     "text": [
      "[(2, 1), (0, 3)]\n",
      "[(4, 1), (2, 3), (0, 5)]\n",
      "[(6, 1), (4, 3), (2, 5), (0, 7)]\n"
     ]
    },
    {
     "data": {
      "text/plain": [
       "[-0.9592391431542702,\n",
       " 0.27777635075069607,\n",
       " -0.051780449025694904,\n",
       " 0.004398897928502951]"
      ]
     },
     "execution_count": 29,
     "metadata": {},
     "output_type": "execute_result"
    }
   ],
   "source": [
    "E_2 = list(reversed([0.85445148, 1.55778674, 2.14114304]))\n",
    "#E_2 = Test_N_7.E\n",
    "C_2 = compute_ansatz_coeff(M=Test_N_7.M, E=E_2, v_a=0, v_b=1, eta=Test_N_7.eta)\n",
    "coeffs_2 = [(0, C_2[0]), (C_2[1], C_2[1]), (C_2[2], C_2[2]), (C_2[3], 0)]\n",
    "states_2 = [(6, 1), (4, 3), (2, 5), (0, 7)]\n",
    "C_2"
   ]
  },
  {
   "cell_type": "code",
   "execution_count": 30,
   "id": "05ea3bce-1e0c-4f66-b421-5267207e5037",
   "metadata": {},
   "outputs": [],
   "source": [
    "def mul_ham_state(states, rel_coeffs, V, W, N):\n",
    "    out = 0\n",
    "    for coeffs, state in zip(states, rel_coeffs):\n",
    "        coeff1, coeff2 = coeffs\n",
    "        out += (state[1] - state[0])/2\n",
    "        out += (W/N) * ( (state[1] + state[0])/2 + state[1]*state[0] )\n",
    "        out += (V/(2*N)) * ( coeff1 + coeff2 )\n",
    "    return out\n"
   ]
  },
  {
   "cell_type": "code",
   "execution_count": 31,
   "id": "12260e5f-593b-4f7f-b2c0-7f864c822674",
   "metadata": {},
   "outputs": [
    {
     "data": {
      "text/plain": [
       "0.9849873156545239"
      ]
     },
     "execution_count": 31,
     "metadata": {},
     "output_type": "execute_result"
    }
   ],
   "source": [
    "mul_ham_state(states_1, coeffs_1, V=.75, W=.5, N=7)"
   ]
  },
  {
   "cell_type": "code",
   "execution_count": 32,
   "id": "370f3136-1c5f-44cd-bde0-c30e5ecb7bfa",
   "metadata": {},
   "outputs": [
    {
     "data": {
      "text/plain": [
       "1.0059250291050272"
      ]
     },
     "execution_count": 32,
     "metadata": {},
     "output_type": "execute_result"
    }
   ],
   "source": [
    "mul_ham_state(states_2, coeffs_2, V=.75, W=.5, N=7)"
   ]
  }
 ],
 "metadata": {
  "kernelspec": {
   "display_name": "bethe-env",
   "language": "python",
   "name": "bethe-env"
  },
  "language_info": {
   "codemirror_mode": {
    "name": "ipython",
    "version": 3
   },
   "file_extension": ".py",
   "mimetype": "text/x-python",
   "name": "python",
   "nbconvert_exporter": "python",
   "pygments_lexer": "ipython3",
   "version": "3.10.12"
  }
 },
 "nbformat": 4,
 "nbformat_minor": 5
}
